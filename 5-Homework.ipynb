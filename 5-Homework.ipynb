{
 "cells": [
  {
   "attachments": {},
   "cell_type": "markdown",
   "metadata": {},
   "source": [
    "# 5. Python Homework# Section 5 Python Homework\n",
    "\n",
    "<br>\n",
    "\n",
    "1. What does Pandas stand for?\n",
    "1. What are the 2 collections used in Pandas?\n",
    "1. Name 4 things Pandas can do for us.\n",
    "1. To permanently sort a DataFrame, which keyword should one use with the `df.sort()` method?\n",
    "1. What is a CSV\n",
    "1. When cleaning data what values do we not like in our data?\n",
    "\n",
    "<br>"
   ]
  }
 ],
 "metadata": {
  "kernelspec": {
   "display_name": "Python 3",
   "language": "python",
   "name": "python3"
  },
  "language_info": {
   "name": "python",
   "version": "3.11.1"
  },
  "orig_nbformat": 4,
  "vscode": {
   "interpreter": {
    "hash": "aee8b7b246df8f9039afb4144a1f6fd8d2ca17a180786b69acc140d282b71a49"
   }
  }
 },
 "nbformat": 4,
 "nbformat_minor": 2
}

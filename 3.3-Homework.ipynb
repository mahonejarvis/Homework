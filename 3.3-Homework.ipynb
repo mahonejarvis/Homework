{
 "cells": [
  {
   "cell_type": "code",
   "execution_count": 37,
   "metadata": {},
   "outputs": [
    {
     "name": "stdout",
     "output_type": "stream",
     "text": [
      "Renting a car is more affordable\n"
     ]
    }
   ],
   "source": [
    "#1\n",
    "age = 38\n",
    "if age >= 25:\n",
    "    print('Renting a car is more affordable')\n",
    "if age <= 25:\n",
    "    print('Renting a car is very expensive')  "
   ]
  },
  {
   "cell_type": "code",
   "execution_count": 38,
   "metadata": {},
   "outputs": [
    {
     "name": "stdout",
     "output_type": "stream",
     "text": [
      "You cannot legally rent a car\n"
     ]
    }
   ],
   "source": [
    "#2    \n",
    "age = 17 \n",
    "if age >= 25:\n",
    "    print('Renting a car is more affordable')\n",
    "if age <= 25 and age >= 18:\n",
    "    print('Renting a car is very expensive')\n",
    "if age < 18:\n",
    "    print('You cannot legally rent a car')"
   ]
  },
  {
   "cell_type": "code",
   "execution_count": 39,
   "metadata": {},
   "outputs": [
    {
     "name": "stdout",
     "output_type": "stream",
     "text": [
      "43\n",
      "e\n",
      "u\n",
      "i\n",
      "o\n",
      "o\n",
      "u\n",
      "o\n",
      "e\n",
      "e\n",
      "a\n",
      "o\n"
     ]
    }
   ],
   "source": [
    "#3   \n",
    "count = 0\n",
    "String = ('The quick brown fox jumps over the lazy dog')\n",
    "vowels = 'aeiou'\n",
    "for x in (String):\n",
    "    count += 1\n",
    "print(count)\n",
    "\n",
    "for x in String:\n",
    "    if x in vowels:\n",
    "        print(x)"
   ]
  },
  {
   "cell_type": "code",
   "execution_count": 40,
   "metadata": {},
   "outputs": [
    {
     "name": "stdout",
     "output_type": "stream",
     "text": [
      "trousers Dark Sapphire\n",
      "trousers fuchsia\n",
      "trousers gunmetal blue\n",
      "trousers aqua\n",
      "trousers auburn\n",
      "trousers burnt sienna\n",
      "trousers cerise\n",
      "trousers maple\n",
      "blouse Dark Sapphire\n",
      "blouse fuchsia\n",
      "blouse gunmetal blue\n",
      "blouse aqua\n",
      "blouse auburn\n",
      "blouse burnt sienna\n",
      "blouse cerise\n",
      "blouse maple\n",
      "bandana Dark Sapphire\n",
      "bandana fuchsia\n",
      "bandana gunmetal blue\n",
      "bandana aqua\n",
      "bandana auburn\n",
      "bandana burnt sienna\n",
      "bandana cerise\n",
      "bandana maple\n",
      "cumber band Dark Sapphire\n",
      "cumber band fuchsia\n",
      "cumber band gunmetal blue\n",
      "cumber band aqua\n",
      "cumber band auburn\n",
      "cumber band burnt sienna\n",
      "cumber band cerise\n",
      "cumber band maple\n",
      "blazer Dark Sapphire\n",
      "blazer fuchsia\n",
      "blazer gunmetal blue\n",
      "blazer aqua\n",
      "blazer auburn\n",
      "blazer burnt sienna\n",
      "blazer cerise\n",
      "blazer maple\n",
      "vest Dark Sapphire\n",
      "vest fuchsia\n",
      "vest gunmetal blue\n",
      "vest aqua\n",
      "vest auburn\n",
      "vest burnt sienna\n",
      "vest cerise\n",
      "vest maple\n",
      "french beret Dark Sapphire\n",
      "french beret fuchsia\n",
      "french beret gunmetal blue\n",
      "french beret aqua\n",
      "french beret auburn\n",
      "french beret burnt sienna\n",
      "french beret cerise\n",
      "french beret maple\n",
      "scarf Dark Sapphire\n",
      "scarf fuchsia\n",
      "scarf gunmetal blue\n",
      "scarf aqua\n",
      "scarf auburn\n",
      "scarf burnt sienna\n",
      "scarf cerise\n",
      "scarf maple\n",
      "stole Dark Sapphire\n",
      "stole fuchsia\n",
      "stole gunmetal blue\n",
      "stole aqua\n",
      "stole auburn\n",
      "stole burnt sienna\n",
      "stole cerise\n",
      "stole maple\n"
     ]
    }
   ],
   "source": [
    "#4\n",
    "couture = [\"trousers\", \"blouse\", \"bandana\", \"cumber band\", \"blazer\", \"vest\", \"french beret\", \"scarf\", \"stole\"]\n",
    "panettone = {\"cerise\", \"fuchsia\", \"aqua\", \"maple\", \"auburn\", \"burnt sienna\", \"gunmetal blue\", \"Dark Sapphire\"}\n",
    "for x in couture:\n",
    "    for y in panettone:\n",
    "        print(x,y)"
   ]
  },
  {
   "cell_type": "code",
   "execution_count": 41,
   "metadata": {},
   "outputs": [
    {
     "name": "stdout",
     "output_type": "stream",
     "text": [
      "4950\n"
     ]
    }
   ],
   "source": [
    "#5\n",
    "Sum = 0\n",
    "for numbers in range (1,100):\n",
    "    Sum = Sum + numbers\n",
    "print(Sum)\n",
    "    "
   ]
  },
  {
   "cell_type": "code",
   "execution_count": 42,
   "metadata": {},
   "outputs": [
    {
     "name": "stdout",
     "output_type": "stream",
     "text": [
      "banana\n"
     ]
    }
   ],
   "source": [
    "#6\n",
    "fruits = ['apple', 'banana', 'cherry']\n",
    "print(fruits[1])"
   ]
  },
  {
   "cell_type": "code",
   "execution_count": 43,
   "metadata": {},
   "outputs": [
    {
     "name": "stdout",
     "output_type": "stream",
     "text": [
      "['kiwi', 'banana', 'cherry']\n"
     ]
    }
   ],
   "source": [
    "#7\n",
    "fruits = [\"apple\", \"banana\", \"cherry\"]\n",
    "fruits[0] = \"kiwi\"\n",
    "print(fruits)"
   ]
  },
  {
   "cell_type": "code",
   "execution_count": 44,
   "metadata": {},
   "outputs": [
    {
     "name": "stdout",
     "output_type": "stream",
     "text": [
      "['apple', 'banana', 'cherry', 'orange']\n"
     ]
    }
   ],
   "source": [
    "#8\n",
    "fruits = [\"apple\", \"banana\", \"cherry\"]\n",
    "fruits.append('orange')\n",
    "print(fruits)"
   ]
  },
  {
   "cell_type": "code",
   "execution_count": 45,
   "metadata": {},
   "outputs": [
    {
     "name": "stdout",
     "output_type": "stream",
     "text": [
      "['apple', 'lemon', 'banana', 'cherry']\n"
     ]
    }
   ],
   "source": [
    "#9\n",
    "fruitList = [\"apple\", \"banana\", \"cherry\"]\n",
    "fruitList.insert(1,'lemon') \n",
    "print(fruitList)"
   ]
  },
  {
   "cell_type": "code",
   "execution_count": 50,
   "metadata": {},
   "outputs": [
    {
     "name": "stdout",
     "output_type": "stream",
     "text": [
      "['apple', 'cherry']\n"
     ]
    }
   ],
   "source": [
    "#10\n",
    "fruitslist = ['apple', 'banana', 'cherry']\n",
    "fruitslist.remove('banana')\n",
    "print(fruitslist)\n"
   ]
  },
  {
   "cell_type": "code",
   "execution_count": 59,
   "metadata": {},
   "outputs": [
    {
     "name": "stdout",
     "output_type": "stream",
     "text": [
      "kiwi\n",
      "melon\n"
     ]
    }
   ],
   "source": [
    "#11\n",
    "inputList = ['apple', 'banana', 'cherry', 'orange', 'kiwi', 'melon', 'mango']\n",
    "print(inputList[-3])\n",
    "print(inputList[-2])\n"
   ]
  },
  {
   "cell_type": "code",
   "execution_count": 62,
   "metadata": {},
   "outputs": [
    {
     "name": "stdout",
     "output_type": "stream",
     "text": [
      "['orange', 'kiwi', 'melon']\n"
     ]
    }
   ],
   "source": [
    "#12\n",
    "fruity = ['apple', 'banana', 'cherry','orange', 'kiwi', 'melon', 'mango']\n",
    "print(fruity[3:6])"
   ]
  },
  {
   "cell_type": "code",
   "execution_count": 63,
   "metadata": {},
   "outputs": [
    {
     "name": "stdout",
     "output_type": "stream",
     "text": [
      "7\n"
     ]
    }
   ],
   "source": [
    "#13\n",
    "fruits =  [\"apple\", \"banana\", \"cherry\", \"orange\", \"kiwi\", \"melon\", \"mango\"]\n",
    "Item_Num = len(fruits)\n",
    "print(Item_Num)"
   ]
  },
  {
   "cell_type": "code",
   "execution_count": 66,
   "metadata": {},
   "outputs": [
    {
     "name": "stdout",
     "output_type": "stream",
     "text": [
      "Sort-1  ['orange', 'melon', 'mango', 'kiwi', 'cherry', 'banana', 'apple']\n"
     ]
    }
   ],
   "source": [
    "#14\n",
    "fruits =  [\"apple\", \"banana\", \"cherry\", \"orange\", \"kiwi\", \"melon\", \"mango\"]\n",
    "fruits.sort(reverse=True)\n",
    "print('Sort-1 ', fruits)"
   ]
  }
 ],
 "metadata": {
  "kernelspec": {
   "display_name": "Python 3",
   "language": "python",
   "name": "python3"
  },
  "language_info": {
   "codemirror_mode": {
    "name": "ipython",
    "version": 3
   },
   "file_extension": ".py",
   "mimetype": "text/x-python",
   "name": "python",
   "nbconvert_exporter": "python",
   "pygments_lexer": "ipython3",
   "version": "3.11.1"
  },
  "orig_nbformat": 4,
  "vscode": {
   "interpreter": {
    "hash": "aee8b7b246df8f9039afb4144a1f6fd8d2ca17a180786b69acc140d282b71a49"
   }
  }
 },
 "nbformat": 4,
 "nbformat_minor": 2
}

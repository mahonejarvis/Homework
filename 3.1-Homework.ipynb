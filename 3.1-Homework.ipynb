{
 "cells": [
  {
   "attachments": {},
   "cell_type": "markdown",
   "metadata": {},
   "source": [
    "# J. Mahone 3.1 Homework \n",
    "\n",
    "1. __What is an algorithm__? An algorithm is a series of steps to solve a problem at hand. \n",
    "2. __Why is Python considered to be a high-level language__? Because its syntax so closely resembles the English language.\n",
    "3. __Is Python a Natural or a Formal language__? Python is a formal language.\n",
    "4. __Variable names may not start with certain characters - name two__. A number or $\n",
    "5. __What is a Semantic error__? Code is grammatically correct but doesn't make any sense; it does not produce the expected results\n",
    "6. __What is the #1 rule of coding / debugging__? Complexity is the enemy of efficiency!\n",
    "7. __list 5 Python reserved words__. None, as, if, or, and not.\n",
    "8. __Add and name, a web link for any Python coding article, in your markdown cell__. \n",
    "\n",
    "[This is an external link to Coursera, What Is Python Used For?](https://www.coursera.org/articles/what-is-python-used-for-a-beginners-guide-to-using-python)\n",
    "\n"
   ]
  },
  {
   "cell_type": "code",
   "execution_count": null,
   "metadata": {},
   "outputs": [],
   "source": [
    "# This is a multi-line comment.\n",
    "# My name is \n",
    "# Jarvis Mahone\n",
    "# and my favorite food is hot wings. \n",
    "# My dream job is Commissioner of Social Security."
   ]
  },
  {
   "cell_type": "code",
   "execution_count": 4,
   "metadata": {},
   "outputs": [
    {
     "name": "stdout",
     "output_type": "stream",
     "text": [
      "Good evening, how are you?\n",
      "13\n",
      "12.84\n",
      "range(0, 100)\n",
      "('longevity', 'equality', 'inclusion')\n",
      "p is ... <class 'tuple'>\n",
      "The length of l is ... 26\n",
      "Element 5 =   \n",
      "Learning Data Analytics and Python is Awesome!\n",
      "ing Data Analytics\n",
      "Learning Data Analytics and Python is Great!\n",
      "Jarvis 38 6ft\n",
      "Hi my name is Jarvis, I am 6ft and 38 years old today.\n",
      "38.0\n"
     ]
    }
   ],
   "source": [
    "\n",
    "l = str(\"Good evening, how are you?\")\n",
    "print(l)\n",
    "\n",
    "m = int(13)\n",
    "print(m)\n",
    "\n",
    "n = float(12.84)\n",
    "print(n)\n",
    "\n",
    "o = range(100)\n",
    "print(o)\n",
    "\n",
    "p = (\"longevity\", \"equality\", \"inclusion\")\n",
    "print(p)\n",
    "\n",
    "print(\"p is ...\", type(p))\n",
    "\n",
    "print(\"The length of l is ...\", len(l))\n",
    "\n",
    "L = (\"Good evening, how are you?\")\n",
    "print(\"Element 5 = \", L[4])\n",
    "\n",
    "savvy = str(\"Learning Data Analytics and Python is Awesome!\")\n",
    "print(savvy)\n",
    "\n",
    "print(savvy [5:23])\n",
    "\n",
    "_savvy = savvy.replace(\"Awesome\", \"Great\")\n",
    "print (_savvy)\n",
    "\n",
    "name, age, length = \"Jarvis\", \"38\", \"6ft\"\n",
    "print(name, age, length)\n",
    "\n",
    "minibio = \"Hi my name is {}, I am {} and {} years old today.\"\n",
    "print(minibio.format(name, length, age))\n",
    "\n",
    "age = float(38)\n",
    "print(age)\n",
    "\n"
   ]
  }
 ],
 "metadata": {
  "kernelspec": {
   "display_name": "Python 3",
   "language": "python",
   "name": "python3"
  },
  "language_info": {
   "codemirror_mode": {
    "name": "ipython",
    "version": 3
   },
   "file_extension": ".py",
   "mimetype": "text/x-python",
   "name": "python",
   "nbconvert_exporter": "python",
   "pygments_lexer": "ipython3",
   "version": "3.11.1 (v3.11.1:a7a450f84a, Dec  6 2022, 15:24:06) [Clang 13.0.0 (clang-1300.0.29.30)]"
  },
  "orig_nbformat": 4,
  "vscode": {
   "interpreter": {
    "hash": "aee8b7b246df8f9039afb4144a1f6fd8d2ca17a180786b69acc140d282b71a49"
   }
  }
 },
 "nbformat": 4,
 "nbformat_minor": 2
}

{
 "cells": [
  {
   "cell_type": "code",
   "execution_count": 2,
   "metadata": {},
   "outputs": [
    {
     "name": "stdout",
     "output_type": "stream",
     "text": [
      "Hello,World!\n"
     ]
    }
   ],
   "source": [
    "print(\"Hello,World!\")"
   ]
  },
  {
   "cell_type": "markdown",
   "metadata": {},
   "source": [
    "- What kind of language is Python considered? Python is considered a high level lanaguage. \n",
    "- What’s a natural language?Natural languages are mostly spoken languages that form on their own. For example, slang. \n",
    "- Is Python a Natural or a Formal language? Python is a formal language.\n",
    "- What are Algorithms? An algorithm is a series of steps to solve a problem at hand.\n",
    "- Why is Python considered to be a high-level language? Because Python takes less time to write, is shorter and easier to read, and more likely to be free of error when ran. \n",
    "- What is a Semantic error? Code is grammatically correct but doesn't make any sense; it does not produce the expected results\n",
    "- What is the #1 rule of coding / debugging? Complexity is the enemy of efficiency!"
   ]
  },
  {
   "cell_type": "markdown",
   "metadata": {},
   "source": []
  }
 ],
 "metadata": {
  "kernelspec": {
   "display_name": "Python 3 (ipykernel)",
   "language": "python",
   "name": "python3"
  },
  "language_info": {
   "codemirror_mode": {
    "name": "ipython",
    "version": 3
   },
   "file_extension": ".py",
   "mimetype": "text/x-python",
   "name": "python",
   "nbconvert_exporter": "python",
   "pygments_lexer": "ipython3",
   "version": "3.11.1 (v3.11.1:a7a450f84a, Dec  6 2022, 15:24:06) [Clang 13.0.0 (clang-1300.0.29.30)]"
  },
  "vscode": {
   "interpreter": {
    "hash": "aee8b7b246df8f9039afb4144a1f6fd8d2ca17a180786b69acc140d282b71a49"
   }
  }
 },
 "nbformat": 4,
 "nbformat_minor": 2
}

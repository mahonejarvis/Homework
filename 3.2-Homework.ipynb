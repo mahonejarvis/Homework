{
 "cells": [
  {
   "cell_type": "code",
   "execution_count": 73,
   "metadata": {},
   "outputs": [
    {
     "name": "stdout",
     "output_type": "stream",
     "text": [
      "Mixed Data Types... ['Jarvis', 'Cutlass', 'Family', '100', {'Homework': 'Tasks'}]\n",
      "5th datatype replaced ...  ['Jarvis', 'Cutlass', 'Family', '100', 'Basketball']\n",
      "New list after append ... ['Jarvis', 'Cutlass', 'Family', '100', 'Basketball', 'Travel']\n",
      "Size of MixedDataList =  6\n",
      "['Jarvis', 'Cutlass', 'Family', '100']\n",
      "Extended MixedDataList ...  ['Jarvis', 'Cutlass', 'Family', '100', 'Basketball', 'Travel', 'Jarvis', 'Cutlass', 'Family', '100']\n",
      "['Bo', 'Deuce', 'Duke', 'Joker', 'Pooh']\n",
      "3rd List: ['Bo', 'Deuce', 'Duke', 'Joker', 'Pooh']\n",
      "4th List combines 2nd and 3rd:  ['Jarvis', 'Cutlass', 'Family', '100', 'Bo', 'Deuce', 'Duke', 'Joker', 'Pooh']\n"
     ]
    }
   ],
   "source": [
    "#Lists\n",
    "\n",
    "MixedDataList = [ \"Jarvis\", \"Cutlass\", \"Family\", \"100\", { \"Homework\" : \"Tasks\"}]\n",
    "print(\"Mixed Data Types...\", MixedDataList)\n",
    "\n",
    "MixedDataList[4] = \"Basketball\"\n",
    "print('5th datatype replaced ... ', MixedDataList)\n",
    "\n",
    "MixedDataList.append(\"Travel\")\n",
    "print(\"New list after append ...\", MixedDataList)\n",
    "\n",
    "ListLength = len(MixedDataList)\n",
    "print('Size of MixedDataList = ', ListLength)\n",
    "\n",
    "_2ndList = MixedDataList[0:4]\n",
    "print(_2ndList)\n",
    "\n",
    "MixedDataList.extend(_2ndList)\n",
    "print(\"Extended MixedDataList ... \", MixedDataList)\n",
    "\n",
    "simList = ['Pooh', 'Duke', 'Deuce', 'Bo', 'Joker']\n",
    "simList.sort()\n",
    "print(simList)\n",
    "\n",
    "_3rdList = simList.copy()\n",
    "print('3rd List:', _3rdList)\n",
    "\n",
    "_4thList = _2ndList + _3rdList\n",
    "print(\"4th List combines 2nd and 3rd: \", _4thList)"
   ]
  },
  {
   "cell_type": "code",
   "execution_count": 74,
   "metadata": {},
   "outputs": [
    {
     "name": "stdout",
     "output_type": "stream",
     "text": [
      "('Pooh', 'Deuce', 'Duke', 'Niya', 'Bre', 'Pooh', 'Deuce', 'Duke', 'Niya', 'Bre', 'Pooh', 'Deuce', 'Duke', 'Niya', 'Bre')\n",
      "The 12th element is: Deuce\n",
      "['Bre', 'Bre', 'Bre', 'Deuce', 'Deuce', 'Deuce', 'Duke', 'Duke', 'Duke', 'Niya', 'Niya', 'Niya', 'Pooh', 'Pooh', 'Pooh']\n",
      "('Pooh', 'Deuce', 'Duke', 'Niya')\n",
      "Pooh Deuce Duke Niya\n",
      "50\n",
      "('Pooh', 'Deuce', 'Duke', 'Niya', 'Bre', 'Pooh', 'Deuce', 'Duke', 'Niya', 'Bre', 'Pooh', 'Deuce', 'Duke', 'Niya', 'Bre', 'Pooh', 'Deuce', 'Duke', 'Niya')\n"
     ]
    }
   ],
   "source": [
    "#Tuples\n",
    "\n",
    "tup1 = ('Pooh', 'Deuce', 'Duke', 'Niya', 'Bre')\n",
    "tup2 = tup1 * 3\n",
    "print(tup2)\n",
    "print(\"The 12th element is:\", tup2[11])\n",
    "\n",
    "_sorted = sorted(tup2)\n",
    "print(_sorted)\n",
    "\n",
    "tup3 = tup2[0:4]\n",
    "print(tup3)\n",
    "\n",
    "tup3 = tup2[0:4]\n",
    "(a, b, c, d) = tup3\n",
    "print(a, b, c, d)\n",
    "\n",
    "tup4 = (50)\n",
    "print(tup4)\n",
    "\n",
    "tup5 = tup2 + tup3\n",
    "print(tup5)\n",
    "\n"
   ]
  },
  {
   "cell_type": "code",
   "execution_count": 75,
   "metadata": {},
   "outputs": [
    {
     "name": "stdout",
     "output_type": "stream",
     "text": [
      "{1986, 'peach', 'peer', 'Cutlass', 'Oldsmobile', 'apple'}\n",
      "{1986, 'peach', 'peer', 'Cutlass', 'Oldsmobile', 'car', 'apple'}\n",
      "{1986, 'peach', 455, 'peer', 'car', 'Oldsmobile', 'Cutlass', 400, 307, 'apple', 350}\n",
      "S3 #3 removed =  {1986, 'peach', 455, 'car', 'Oldsmobile', 'Cutlass', 400, 307, 'apple', 350}\n",
      "set()\n",
      "{1986, 455, 'car', 'Oldsmobile', 'Cutlass', 400, 'apple', 350}\n"
     ]
    }
   ],
   "source": [
    "#Sets \n",
    "\n",
    "S1 = {1986, 'Cutlass', 'Oldsmobile'}\n",
    "fruits = ('peach', 'peer', 'apple')\n",
    "S1.update(fruits)\n",
    "print(S1)\n",
    "S1.add('car')\n",
    "print(S1)\n",
    "\n",
    "S2 = {307, 350, 400, 455}\n",
    "S3 = S1.union(S2)\n",
    "print(S3)\n",
    "\n",
    "S3P = S3.remove('peer')\n",
    "print('S3 #3 removed = ', S3)\n",
    "\n",
    "S1.clear()\n",
    "print(S1)\n",
    "\n",
    "S3.remove(307)\n",
    "S3.discard('peach')\n",
    "print(S3)\n",
    "\n"
   ]
  },
  {
   "cell_type": "code",
   "execution_count": 76,
   "metadata": {},
   "outputs": [
    {
     "name": "stdout",
     "output_type": "stream",
     "text": [
      "Dict1 ...  {'builder': 'Ryan', 'model': 'Lexington', 'sqft': 2950, 'year': 2019, 'siding': 'vinyl'}\n",
      "2950\n",
      "{'builder': 'Ryan', 'model': 'Jarvis', 'sqft': 2950, 'year': 2019, 'siding': 'vinyl', 'fav color': 'blue', 'grass': {'fescues', 'zoysia', 'bluegrass'}}\n",
      "dict_keys(['builder', 'model', 'sqft', 'year', 'siding', 'fav color', 'grass'])\n",
      "dict_values(['Ryan', 'Jarvis', 2950, 2019, 'vinyl', 'blue', {'fescues', 'zoysia', 'bluegrass'}])\n",
      "Dict1 w/o last item... {'builder': 'Ryan', 'model': 'Jarvis', 'sqft': 2950, 'year': 2019, 'siding': 'vinyl', 'fav color': 'blue'}\n",
      "All Dict2 elements removed... {}\n"
     ]
    }
   ],
   "source": [
    "#Dictionaries\n",
    "\n",
    "Dict1 = {\n",
    "    'builder': 'Ryan',\n",
    "    'model': 'Lexington',\n",
    "    'sqft'  : 2950,\n",
    "    'year': 2019,\n",
    "    'siding': 'vinyl'\n",
    "}\n",
    "print('Dict1 ... ', Dict1)\n",
    "\n",
    "print(Dict1 ['sqft'])\n",
    "\n",
    "Dict1['model'] = 'Jarvis'\n",
    "Dict1['fav color'] = 'blue'\n",
    "Dict1['grass'] = {'bluegrass', 'fescues', 'zoysia'}\n",
    "print(Dict1)\n",
    "\n",
    "\n",
    "keys = Dict1.keys()\n",
    "print(keys)\n",
    "\n",
    "values = Dict1.values()\n",
    "print(values)\n",
    "\n",
    "Dict2 = Dict1.copy()\n",
    "Dict2.popitem()\n",
    "print('Dict1 w/o last item...',Dict2)\n",
    "\n",
    "Dict2.clear()\n",
    "print('All Dict2 elements removed...', Dict2)\n",
    "\n",
    "\n",
    "\n",
    "\n"
   ]
  }
 ],
 "metadata": {
  "kernelspec": {
   "display_name": "Python 3",
   "language": "python",
   "name": "python3"
  },
  "language_info": {
   "codemirror_mode": {
    "name": "ipython",
    "version": 3
   },
   "file_extension": ".py",
   "mimetype": "text/x-python",
   "name": "python",
   "nbconvert_exporter": "python",
   "pygments_lexer": "ipython3",
   "version": "3.11.1 (v3.11.1:a7a450f84a, Dec  6 2022, 15:24:06) [Clang 13.0.0 (clang-1300.0.29.30)]"
  },
  "orig_nbformat": 4,
  "vscode": {
   "interpreter": {
    "hash": "aee8b7b246df8f9039afb4144a1f6fd8d2ca17a180786b69acc140d282b71a49"
   }
  }
 },
 "nbformat": 4,
 "nbformat_minor": 2
}
